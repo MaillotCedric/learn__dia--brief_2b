{
 "cells": [
  {
   "attachments": {},
   "cell_type": "markdown",
   "metadata": {},
   "source": [
    "### Importation des librairies"
   ]
  },
  {
   "cell_type": "code",
   "execution_count": 2,
   "metadata": {},
   "outputs": [],
   "source": [
    "from keras.applications import EfficientNetV2L\n",
    "from keras.callbacks import EarlyStopping\n",
    "from keras.layers import *\n",
    "from keras.metrics import *\n",
    "\n",
    "from tensorflow._api.v2.image import flip_left_right, adjust_brightness, adjust_contrast\n",
    "\n",
    "import tensorflow as tf\n",
    "\n",
    "import toolbox as tb"
   ]
  },
  {
   "attachments": {},
   "cell_type": "markdown",
   "metadata": {},
   "source": [
    "### Constantes"
   ]
  },
  {
   "cell_type": "code",
   "execution_count": null,
   "metadata": {},
   "outputs": [],
   "source": [
    "EARLY_STOP = EarlyStopping(patience=3, monitor=\"val_loss\")\n",
    "INPUT_SHAPE = (224, 224, 3)\n",
    "METRICS = [\"accuracy\"]\n",
    "NEW_LAYERS = [\n",
    "    GlobalAveragePooling2D(),\n",
    "    # ------------------------- #\n",
    "    Dense(512, activation=\"relu\"),\n",
    "    Dropout(0.2),\n",
    "    # ------------------------- #\n",
    "    Dense(512, activation=\"relu\"),\n",
    "    Dropout(0.2)\n",
    "]"
   ]
  },
  {
   "attachments": {},
   "cell_type": "markdown",
   "metadata": {},
   "source": [
    "### Variables"
   ]
  },
  {
   "cell_type": "code",
   "execution_count": null,
   "metadata": {},
   "outputs": [],
   "source": [
    "datasets_path = \"data/images/\"\n",
    "nb_of_labels = len(tb.get_labels(datasets_path=datasets_path))\n",
    "training_callbacks = [EARLY_STOP]\n",
    "\n",
    "loss_function, model, train_dataset, training, validation_dataset = [None, None, None, None, None]"
   ]
  },
  {
   "attachments": {},
   "cell_type": "markdown",
   "metadata": {},
   "source": [
    "### Fonctions"
   ]
  },
  {
   "attachments": {},
   "cell_type": "markdown",
   "metadata": {},
   "source": [
    "#### Callback -- data augmentation"
   ]
  },
  {
   "cell_type": "code",
   "execution_count": null,
   "metadata": {},
   "outputs": [],
   "source": [
    "def augment(image, label):\n",
    "    image = flip_left_right(image) # rotation\n",
    "    image = adjust_brightness(image, delta=0.1) # exposition\n",
    "    image = adjust_contrast(image, contrast_factor=1.75) # contraste\n",
    "\n",
    "    return (image, label)"
   ]
  },
  {
   "attachments": {},
   "cell_type": "markdown",
   "metadata": {},
   "source": [
    "### Création du modèle"
   ]
  },
  {
   "attachments": {},
   "cell_type": "markdown",
   "metadata": {},
   "source": [
    "#### Création des datasets"
   ]
  },
  {
   "attachments": {},
   "cell_type": "markdown",
   "metadata": {},
   "source": [
    "Dataset -- entrainement : **80%** de l'intégralité des images\n",
    "\n",
    "Dataset -- validation : **20%** de l'intégralité des images"
   ]
  },
  {
   "cell_type": "code",
   "execution_count": null,
   "metadata": {},
   "outputs": [],
   "source": [
    "train_dataset, validation_dataset = tb.get_datasets(folders_path=datasets_path)"
   ]
  },
  {
   "attachments": {},
   "cell_type": "markdown",
   "metadata": {},
   "source": [
    "#### Instanciation d'un nouveau modèle"
   ]
  },
  {
   "cell_type": "code",
   "execution_count": null,
   "metadata": {},
   "outputs": [],
   "source": [
    "model = tb.new_model(EfficientNetV2L, include_top=False, input_shape=INPUT_SHAPE)"
   ]
  },
  {
   "attachments": {},
   "cell_type": "markdown",
   "metadata": {},
   "source": [
    "#### Gel des couches du modèle instancié"
   ]
  },
  {
   "cell_type": "code",
   "execution_count": null,
   "metadata": {},
   "outputs": [],
   "source": [
    "tb.freeze(model)"
   ]
  },
  {
   "attachments": {},
   "cell_type": "markdown",
   "metadata": {},
   "source": [
    "#### Ajout de nouvelles couches convolutives"
   ]
  },
  {
   "attachments": {},
   "cell_type": "markdown",
   "metadata": {},
   "source": [
    "> Les nouvelles couches ajoutées seront les seules couches à être entrainées. Le reste des couches ont été gelées précédemment."
   ]
  },
  {
   "cell_type": "code",
   "execution_count": null,
   "metadata": {},
   "outputs": [],
   "source": [
    "model = tb.new_cnn(model, nb_of_labels=nb_of_labels, new_layers=NEW_LAYERS)"
   ]
  },
  {
   "attachments": {},
   "cell_type": "markdown",
   "metadata": {},
   "source": [
    "#### Mise en place de la data augmentation"
   ]
  },
  {
   "attachments": {},
   "cell_type": "markdown",
   "metadata": {},
   "source": [
    "La `data augmentation` va permettre d'augmenter le dataset d'entrainement avec des images qui vont être :\n",
    "\n",
    "- orientées de manières diverses\n",
    "- élargies ou reduites au travers de zooms\n",
    "- ..."
   ]
  },
  {
   "cell_type": "code",
   "execution_count": null,
   "metadata": {},
   "outputs": [],
   "source": [
    "train_dataset = train_dataset.map(augment, num_parallel_calls=tf.data.AUTOTUNE)"
   ]
  },
  {
   "attachments": {},
   "cell_type": "markdown",
   "metadata": {},
   "source": [
    "#### Prefetch"
   ]
  },
  {
   "attachments": {},
   "cell_type": "markdown",
   "metadata": {},
   "source": [
    "Mise en place de prefetch sur le dataset d'entrainement et le dataset de validation.\n",
    "\n",
    "Ces prefetch vont permettre d'optimiser l'entrainement du modèle."
   ]
  },
  {
   "cell_type": "code",
   "execution_count": null,
   "metadata": {},
   "outputs": [],
   "source": [
    "train_dataset = train_dataset.prefetch(tf.data.AUTOTUNE)\n",
    "validation_dataset = validation_dataset.prefetch(tf.data.AUTOTUNE)"
   ]
  },
  {
   "attachments": {},
   "cell_type": "markdown",
   "metadata": {},
   "source": [
    "#### Compilation du modèle"
   ]
  },
  {
   "cell_type": "code",
   "execution_count": null,
   "metadata": {},
   "outputs": [],
   "source": [
    "loss_function = tb.get_loss_function(nb_of_labels=nb_of_labels)\n",
    "\n",
    "tb.compile_model(model, loss=loss_function, metrics=METRICS, learning_rate=0.001)"
   ]
  },
  {
   "attachments": {},
   "cell_type": "markdown",
   "metadata": {},
   "source": [
    "#### Entrainement du modèle"
   ]
  },
  {
   "cell_type": "code",
   "execution_count": null,
   "metadata": {},
   "outputs": [],
   "source": [
    "training = tb.train_model(\n",
    "    model,\n",
    "    train_data = train_dataset,\n",
    "    validation_data = validation_dataset,\n",
    "    nb_of_epochs = 20,\n",
    "    callbacks = training_callbacks\n",
    ")"
   ]
  },
  {
   "attachments": {},
   "cell_type": "markdown",
   "metadata": {},
   "source": [
    "#### Graphiques récapitulatifs de l'entrainement"
   ]
  },
  {
   "attachments": {},
   "cell_type": "markdown",
   "metadata": {},
   "source": [
    "##### Accuracy"
   ]
  },
  {
   "cell_type": "code",
   "execution_count": null,
   "metadata": {},
   "outputs": [],
   "source": [
    "tb.graph(\"accuracy\", training).show()"
   ]
  },
  {
   "attachments": {},
   "cell_type": "markdown",
   "metadata": {},
   "source": [
    "##### Loss"
   ]
  },
  {
   "cell_type": "code",
   "execution_count": null,
   "metadata": {},
   "outputs": [],
   "source": [
    "tb.graph(\"loss\", training).show()"
   ]
  },
  {
   "attachments": {},
   "cell_type": "markdown",
   "metadata": {},
   "source": [
    "### Sauvegarde du modèle"
   ]
  },
  {
   "cell_type": "code",
   "execution_count": null,
   "metadata": {},
   "outputs": [],
   "source": [
    "model.save(f\"mes_modeles/mon_modele__{NB_OF_LABELS}_labels\")"
   ]
  }
 ],
 "metadata": {
  "kernelspec": {
   "display_name": ".env",
   "language": "python",
   "name": "python3"
  },
  "language_info": {
   "codemirror_mode": {
    "name": "ipython",
    "version": 3
   },
   "file_extension": ".py",
   "mimetype": "text/x-python",
   "name": "python",
   "nbconvert_exporter": "python",
   "pygments_lexer": "ipython3",
   "version": "3.10.7"
  },
  "orig_nbformat": 4,
  "vscode": {
   "interpreter": {
    "hash": "eaa3886c3d03a4fa258ce06dd759250f0254b67a1023ed5cb4415941474c8528"
   }
  }
 },
 "nbformat": 4,
 "nbformat_minor": 2
}
