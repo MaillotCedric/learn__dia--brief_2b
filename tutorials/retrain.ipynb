{
 "cells": [
  {
   "cell_type": "code",
   "execution_count": 1,
   "metadata": {},
   "outputs": [],
   "source": [
    "import tensorflow as tf"
   ]
  },
  {
   "cell_type": "code",
   "execution_count": 25,
   "metadata": {},
   "outputs": [],
   "source": [
    "mon_modele = tf.keras.models.load_model(\"mes_modeles/mon_modele.h5\")"
   ]
  },
  {
   "cell_type": "code",
   "execution_count": 26,
   "metadata": {},
   "outputs": [
    {
     "name": "stdout",
     "output_type": "stream",
     "text": [
      "Model: \"sequential\"\n",
      "_________________________________________________________________\n",
      " Layer (type)                Output Shape              Param #   \n",
      "=================================================================\n",
      " efficientnetv2-l (Functiona  (None, 7, 7, 1280)       117746848 \n",
      " l)                                                              \n",
      "                                                                 \n",
      " global_average_pooling2d (G  (None, 1280)             0         \n",
      " lobalAveragePooling2D)                                          \n",
      "                                                                 \n",
      " dense (Dense)               (None, 512)               655872    \n",
      "                                                                 \n",
      " dropout (Dropout)           (None, 512)               0         \n",
      "                                                                 \n",
      " dense_1 (Dense)             (None, 512)               262656    \n",
      "                                                                 \n",
      " dropout_1 (Dropout)         (None, 512)               0         \n",
      "                                                                 \n",
      " dense_2 (Dense)             (None, 4)                 2052      \n",
      "                                                                 \n",
      "=================================================================\n",
      "Total params: 118,667,428\n",
      "Trainable params: 920,580\n",
      "Non-trainable params: 117,746,848\n",
      "_________________________________________________________________\n"
     ]
    }
   ],
   "source": [
    "mon_modele.summary()"
   ]
  },
  {
   "attachments": {},
   "cell_type": "markdown",
   "metadata": {},
   "source": [
    "remove last layer"
   ]
  },
  {
   "cell_type": "code",
   "execution_count": 30,
   "metadata": {},
   "outputs": [],
   "source": [
    "inp = mon_modele.input # define input layer\n",
    "output = mon_modele.layers[-2].output # define output layer, [-1] is last layer\n",
    "\n",
    "mon_modele = tf.keras.models.Model(inp,output)"
   ]
  },
  {
   "cell_type": "code",
   "execution_count": 31,
   "metadata": {},
   "outputs": [
    {
     "name": "stdout",
     "output_type": "stream",
     "text": [
      "Model: \"model_1\"\n",
      "_________________________________________________________________\n",
      " Layer (type)                Output Shape              Param #   \n",
      "=================================================================\n",
      " efficientnetv2-l_input (Inp  [(None, 224, 224, 3)]    0         \n",
      " utLayer)                                                        \n",
      "                                                                 \n",
      " efficientnetv2-l (Functiona  (None, 7, 7, 1280)       117746848 \n",
      " l)                                                              \n",
      "                                                                 \n",
      " global_average_pooling2d (G  (None, 1280)             0         \n",
      " lobalAveragePooling2D)                                          \n",
      "                                                                 \n",
      " dense (Dense)               (None, 512)               655872    \n",
      "                                                                 \n",
      " dropout (Dropout)           (None, 512)               0         \n",
      "                                                                 \n",
      " dense_1 (Dense)             (None, 512)               262656    \n",
      "                                                                 \n",
      " dropout_1 (Dropout)         (None, 512)               0         \n",
      "                                                                 \n",
      "=================================================================\n",
      "Total params: 118,665,376\n",
      "Trainable params: 918,528\n",
      "Non-trainable params: 117,746,848\n",
      "_________________________________________________________________\n"
     ]
    }
   ],
   "source": [
    "mon_modele.summary()"
   ]
  },
  {
   "cell_type": "code",
   "execution_count": 32,
   "metadata": {},
   "outputs": [],
   "source": [
    "nb_layers = 0 # nombre de couches à ré-entrainer\n",
    "limit = -1 * nb_layers\n",
    "layers = mon_modele.layers if limit == 0 else mon_modele.layers[:limit]\n",
    "\n",
    "for layer in layers: # parcours des différentes couches du modèle\n",
    "    layer.trainable = False # gel de la couche"
   ]
  },
  {
   "cell_type": "code",
   "execution_count": 35,
   "metadata": {},
   "outputs": [],
   "source": [
    "from keras.models import Sequential\n",
    "from keras.layers import *\n",
    "\n",
    "nb_classes = 5\n",
    "\n",
    "nouveau_modele = Sequential([\n",
    "    mon_modele,\n",
    "\n",
    "    Dense(512, activation=\"relu\"),\n",
    "    Dropout(0.2),\n",
    "\n",
    "    Dense(512, activation=\"relu\"),\n",
    "    Dropout(0.2),\n",
    "\n",
    "    Dense(nb_classes, activation=\"softmax\")\n",
    "])"
   ]
  },
  {
   "cell_type": "code",
   "execution_count": 36,
   "metadata": {},
   "outputs": [
    {
     "name": "stdout",
     "output_type": "stream",
     "text": [
      "Model: \"sequential_4\"\n",
      "_________________________________________________________________\n",
      " Layer (type)                Output Shape              Param #   \n",
      "=================================================================\n",
      " model_1 (Functional)        (None, 512)               118665376 \n",
      "                                                                 \n",
      " dense_14 (Dense)            (None, 512)               262656    \n",
      "                                                                 \n",
      " dropout_8 (Dropout)         (None, 512)               0         \n",
      "                                                                 \n",
      " dense_15 (Dense)            (None, 512)               262656    \n",
      "                                                                 \n",
      " dropout_9 (Dropout)         (None, 512)               0         \n",
      "                                                                 \n",
      " dense_16 (Dense)            (None, 5)                 2565      \n",
      "                                                                 \n",
      "=================================================================\n",
      "Total params: 119,193,253\n",
      "Trainable params: 527,877\n",
      "Non-trainable params: 118,665,376\n",
      "_________________________________________________________________\n"
     ]
    }
   ],
   "source": [
    "nouveau_modele.summary()"
   ]
  }
 ],
 "metadata": {
  "kernelspec": {
   "display_name": ".env",
   "language": "python",
   "name": "python3"
  },
  "language_info": {
   "codemirror_mode": {
    "name": "ipython",
    "version": 3
   },
   "file_extension": ".py",
   "mimetype": "text/x-python",
   "name": "python",
   "nbconvert_exporter": "python",
   "pygments_lexer": "ipython3",
   "version": "3.10.7"
  },
  "orig_nbformat": 4,
  "vscode": {
   "interpreter": {
    "hash": "eaa3886c3d03a4fa258ce06dd759250f0254b67a1023ed5cb4415941474c8528"
   }
  }
 },
 "nbformat": 4,
 "nbformat_minor": 2
}
