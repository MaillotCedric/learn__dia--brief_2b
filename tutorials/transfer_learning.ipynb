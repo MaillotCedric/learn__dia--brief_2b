{
 "cells": [],
 "metadata": {
  "kernelspec": {
   "display_name": ".env",
   "language": "python",
   "name": "python3"
  },
  "language_info": {
   "codemirror_mode": {
    "name": "ipython",
    "version": 3
   },
   "file_extension": ".py",
   "mimetype": "text/x-python",
   "name": "python",
   "nbconvert_exporter": "python",
   "pygments_lexer": "ipython3",
   "version": "3.10.7"
  },
  "orig_nbformat": 4,
  "vscode": {
   "interpreter": {
    "hash": "eaa3886c3d03a4fa258ce06dd759250f0254b67a1023ed5cb4415941474c8528"
   }
  }
 },
 "nbformat": 4,
 "nbformat_minor": 2
}
